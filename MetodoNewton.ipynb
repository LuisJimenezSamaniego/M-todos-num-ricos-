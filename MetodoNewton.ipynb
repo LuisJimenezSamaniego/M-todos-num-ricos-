{
  "nbformat": 4,
  "nbformat_minor": 0,
  "metadata": {
    "colab": {
      "provenance": [],
      "authorship_tag": "ABX9TyNro03KvAtQa8/jDkYFhjC+",
      "include_colab_link": true
    },
    "kernelspec": {
      "name": "python3",
      "display_name": "Python 3"
    },
    "language_info": {
      "name": "python"
    }
  },
  "cells": [
    {
      "cell_type": "markdown",
      "metadata": {
        "id": "view-in-github",
        "colab_type": "text"
      },
      "source": [
        "<a href=\"https://colab.research.google.com/github/LuisJimenezSamaniego/M-todos-num-ricos-/blob/main/MetodoNewton.ipynb\" target=\"_parent\"><img src=\"https://colab.research.google.com/assets/colab-badge.svg\" alt=\"Open In Colab\"/></a>"
      ]
    },
    {
      "cell_type": "markdown",
      "source": [
        "# **Método de Newton**\n",
        "**Jiménez Samaniego Luis Manuel**\n",
        "\n",
        "Para este caso se nos pide analizar la misma función que la tarea pasada. Es decir, determinar una solución exacta dentro de $10^{-2}$ para la función:\n",
        "\n",
        "$$g(x)=x^3-x-1=0$$\n",
        "\n",
        "\n",
        "Sabemos que $g(x)$ es una función continua. Usaremos como punto de partida $(p_0)$ en valor de $1$.\n",
        "Ahora calculamos $g(x)'$\n",
        "$$ g(x)'=3x^2-1$$\n",
        "entonces:\n",
        "$$p_n=p_{n-1}- \\frac{p_{n-1}^3-p_{n-1}-1}{3p_{n-1}^2-1}$$\n",
        "\n"
      ],
      "metadata": {
        "id": "j-3aOAOZh6nD"
      }
    },
    {
      "cell_type": "code",
      "execution_count": 77,
      "metadata": {
        "id": "NEsERQthhqdx"
      },
      "outputs": [],
      "source": [
        "#Primero importamos las herramientas que podamos ocupar\n",
        "from math import *\n",
        "import numpy as np\n",
        "#Definicion de la función\n",
        "def funcion1(x):\n",
        "  return x-((x**3-x-1)/((3*x**2)-1))\n",
        "\n",
        "def funciong(x):\n",
        "    return x**3 -x-1   #Esta es la funcion original"
      ]
    },
    {
      "cell_type": "code",
      "source": [
        "# Método de Newton\n",
        "# Definimos las variables\n",
        "iterator = 0 #definimos un contador para conocer en que iteración vamos\n",
        "max_iterator = 100 #número de iteraciones máximas para hallar la solución\n",
        "tolerancia = 0.01 #tolerancia entre los valores para saber cuando se encontró la solución\n",
        "new_error = 1\n",
        "punto_inicial = 1 #el punto inicial\n",
        "\n",
        "#Imprimimos la primer fila de la tabla\n",
        "print(\"# iter\\t\\t p\\t\\t g(p)\\t\\t error\")\n",
        "\n",
        "while iterator < max_iterator and new_error > tolerancia: #Condiciones para que continue\n",
        "\n",
        "  punto_final = funcion1(punto_inicial) #Evaluamos la funcion\n",
        "  new_error = abs(punto_final - punto_inicial)\n",
        "\n",
        "  print(\"{0} \\t\\t {1:6.3f} \\t {2:6.3f} \\t {3:6.3f}\".format(iterator, punto_inicial, punto_final, new_error)) #imprimimos lo obtenido\n",
        "\n",
        "  if iterator == max_iterator -1:\n",
        "    print(\"No se encontró la solución en el número máximo de iteraciones\")\n",
        "\n",
        "  iterator+=1 # Sumamos 1 al contador\n",
        "  punto_inicial = punto_final # Redefinimos el punto a evaluar\n",
        "\n",
        "print(\"La raíz de la función dada en el intervalo [1,2] es {0:6.4f}\".format(punto_final))"
      ],
      "metadata": {
        "colab": {
          "base_uri": "https://localhost:8080/"
        },
        "id": "PVblA0d_u477",
        "outputId": "04a5e63e-8642-4079-af83-4afda7b88118"
      },
      "execution_count": 80,
      "outputs": [
        {
          "output_type": "stream",
          "name": "stdout",
          "text": [
            "# iter\t\t p\t\t g(p)\t\t error\n",
            "0 \t\t  1.000 \t  1.500 \t  0.500\n",
            "1 \t\t  1.500 \t  1.348 \t  0.152\n",
            "2 \t\t  1.348 \t  1.325 \t  0.023\n",
            "3 \t\t  1.325 \t  1.325 \t  0.000\n",
            "La raíz de la función dada en el intervalo [1,2] es 1.3247\n"
          ]
        }
      ]
    }
  ]
}