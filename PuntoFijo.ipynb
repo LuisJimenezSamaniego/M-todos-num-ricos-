{
  "cells": [
    {
      "cell_type": "markdown",
      "id": "3154e14b",
      "metadata": {
        "id": "3154e14b"
      },
      "source": [
        "# Método de bisecciónpunto fijo\n",
        "\n",
        "Para este caso usaremos el método de punto fijo para determinar una solución exacta dentro de $10^{-2}$ para la función:\n",
        "\n",
        "$$g(x)=x^3-x-1=0$$\n",
        "\n",
        "en el intervalo $[1,2]$, usando $p_0=1$\n",
        "\n",
        "Primero verificamos que sea una función contínua, lo cual si es al tratarse de un polinomio de grado 3.\n",
        "Ahora buscamos los valores en los extremos del intervalo, es decir:\n",
        "\n",
        "$$g(1)=-1$$\n",
        "$$g(2)=5$$\n",
        "\n",
        "Podemos ver que $g(x)|x∈[1,2]$ no se encuentra en el rango de $[1,2]$, entonces se propone otra expresión para la función:\n",
        "\n",
        "$$g_1(x)=x=\\pm \\sqrt{\\frac{1}{x}+2}$$\n",
        "\n",
        "$$g_2(x)=x=\\frac{1}{x^2-2}$$\n",
        "\n",
        "$$g_3(x)=x=\\frac{x^3-1}{2}$$\n",
        "\n",
        "\n"
      ]
    },
    {
      "cell_type": "code",
      "execution_count": 2,
      "id": "9d5e2287",
      "metadata": {
        "id": "9d5e2287"
      },
      "outputs": [],
      "source": [
        "#Primero importamos las herramientas que podamos ocupar\n",
        "from math import *\n",
        "import numpy as np\n",
        "import matplotlib . pyplot as plt"
      ]
    },
    {
      "cell_type": "code",
      "execution_count": 67,
      "id": "db980446",
      "metadata": {
        "id": "db980446"
      },
      "outputs": [],
      "source": [
        "#Definimos las funciones\n",
        "def funcion1(x):\n",
        "  return (1/x +2)**(1/2)\n",
        "\n",
        "def funcion2(x):\n",
        "  return 1/(x**2-2)\n",
        "\n",
        "def funcion3(x):\n",
        "  return (x**3-1)/(2)\n",
        "\n",
        "def funciong(x):\n",
        "    return x**3 -x-1   #Esta es la funcion original"
      ]
    },
    {
      "cell_type": "code",
      "execution_count": 51,
      "id": "679a51af",
      "metadata": {
        "id": "679a51af"
      },
      "outputs": [],
      "source": [
        "#Definimos las variables\n",
        "p00=1 #aproximación inicial\n",
        "TOL=0.0000001 #tolerancia entre los valores para saber cuando se encontró la solución\n",
        "error = 100 #La diferencia entre dos valores consecutivos obtenidos\n",
        "nitmax=100 #número de iteraciones máximas para hallar la solución"
      ]
    },
    {
      "cell_type": "code",
      "source": [
        "funcion1(1)"
      ],
      "metadata": {
        "colab": {
          "base_uri": "https://localhost:8080/"
        },
        "id": "S4bIxNna8BtY",
        "outputId": "7c2ebff0-477f-4244-99cc-04a86a635737"
      },
      "id": "S4bIxNna8BtY",
      "execution_count": 68,
      "outputs": [
        {
          "output_type": "execute_result",
          "data": {
            "text/plain": [
              "1.7320508075688772"
            ]
          },
          "metadata": {},
          "execution_count": 68
        }
      ]
    },
    {
      "cell_type": "code",
      "source": [
        "# Método de Punto Fijo\n",
        "it=0 #definimos un contador para conocer en que iteración vamos\n",
        "p0=p00 #arrastramos el valor en que comenzamos\n",
        "p1=funcion1(p0)\n",
        "error=abs(p1-p0)\n",
        "\n",
        "#Imprimimos las primeras dos filas de la tabla\n",
        "print(\"# iter\\t\\t p\\t\\t g(p)\\t\\t error\")\n",
        "print(\"{0} \\t\\t {1:6.4f} \\t {2:6.4f} \\t {3:6.6f}\".format(it, p0, p1, error ))\n",
        "\n",
        "while it<nitmax and error>TOL:\n",
        "  p1=funcion1(p0)  #evaluamos en el punto propuesto\n",
        "\n",
        "  if abs(p1-p0)>TOL: #verificamos que tan alejados están\n",
        "    p0=funcion1(p0) #si la diferencia es mayor a la tolerancia, definimos el nuevo punto para evaluar\n",
        "  else:\n",
        "    break\n",
        "\n",
        "  p0=funcion1(p0)\n",
        "  error=abs(p1-p0)\n",
        "  it+=1\n",
        "  print(\"{0} \\t\\t {1:6.4f} \\t {2:6.4f} \\t {3:6.6f}\".format(it, p1, p0, error ))\n",
        "\n",
        "print(\"La raíz de la función dada en el intervalo es {0:6.7f}\".format(p0))"
      ],
      "metadata": {
        "colab": {
          "base_uri": "https://localhost:8080/"
        },
        "id": "NMb3R__ixmRf",
        "outputId": "a8b0c68e-5027-4dc1-dc17-f1c89f77c77b"
      },
      "id": "NMb3R__ixmRf",
      "execution_count": 69,
      "outputs": [
        {
          "output_type": "stream",
          "name": "stdout",
          "text": [
            "# iter\t\t p\t\t g(p)\t\t error\n",
            "0 \t\t 1.0000 \t 1.7321 \t 0.732051\n",
            "1 \t\t 1.7321 \t 1.6054 \t 0.126638\n",
            "2 \t\t 1.6195 \t 1.6179 \t 0.001678\n",
            "3 \t\t 1.6181 \t 1.6180 \t 0.000023\n",
            "4 \t\t 1.6180 \t 1.6180 \t 0.000000\n",
            "La raíz de la función dada en el intervalo es 1.6180340\n"
          ]
        }
      ]
    },
    {
      "cell_type": "code",
      "execution_count": null,
      "id": "b59ace03",
      "metadata": {
        "id": "b59ace03"
      },
      "outputs": [],
      "source": []
    }
  ],
  "metadata": {
    "kernelspec": {
      "display_name": "Python 3 (ipykernel)",
      "language": "python",
      "name": "python3"
    },
    "language_info": {
      "codemirror_mode": {
        "name": "ipython",
        "version": 3
      },
      "file_extension": ".py",
      "mimetype": "text/x-python",
      "name": "python",
      "nbconvert_exporter": "python",
      "pygments_lexer": "ipython3",
      "version": "3.7.3"
    },
    "colab": {
      "provenance": []
    }
  },
  "nbformat": 4,
  "nbformat_minor": 5
}