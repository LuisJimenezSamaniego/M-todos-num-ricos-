{
  "nbformat": 4,
  "nbformat_minor": 0,
  "metadata": {
    "colab": {
      "provenance": [],
      "authorship_tag": "ABX9TyOhPByOYfV0uWEjqYeoeV5k",
      "include_colab_link": true
    },
    "kernelspec": {
      "name": "python3",
      "display_name": "Python 3"
    },
    "language_info": {
      "name": "python"
    }
  },
  "cells": [
    {
      "cell_type": "markdown",
      "metadata": {
        "id": "view-in-github",
        "colab_type": "text"
      },
      "source": [
        "<a href=\"https://colab.research.google.com/github/LuisJimenezSamaniego/M-todos-num-ricos-/blob/main/Metodo_Steffensen.ipynb\" target=\"_parent\"><img src=\"https://colab.research.google.com/assets/colab-badge.svg\" alt=\"Open In Colab\"/></a>"
      ]
    },
    {
      "cell_type": "markdown",
      "source": [
        "# **Método de Steffensen**\n",
        "\n",
        "**Jiménez Samaniego Luis Manuel**\n",
        "\n",
        "\n",
        "Para este método vamos a analizar la función $f(x)=cos(x)-2x+3$ con una precisión de $0.00001$.\n",
        "\n",
        "Podemos observar que la función está compuesta por un polinomio de primer grado y una función coseno, por lo que $f(x)$ es una función continua.\n",
        "\n",
        "De manera similar al *método de Punto Fijo*, buscamos una función dependiente de $x$. En este caso propnemos:\n",
        "$$g(x)=x=\\frac{cos(x)+3}{2}$$\n"
      ],
      "metadata": {
        "id": "truiqL4Wybjl"
      }
    },
    {
      "cell_type": "code",
      "execution_count": 29,
      "metadata": {
        "colab": {
          "base_uri": "https://localhost:8080/"
        },
        "id": "V3G4GtIVyAmy",
        "outputId": "fe08a36d-fcd5-42f0-a1d4-65cf96e48a7a"
      },
      "outputs": [
        {
          "output_type": "stream",
          "name": "stdout",
          "text": [
            "# iter\t\t P_0\t\t P_1\t\t P_2\t\t error\n",
            "0 \t\t 1.0000000 \t 1.7701512 \t 1.4009815 \t 0.5206021\n",
            "1 \t\t 1.5206021 \t 1.5250866 \t 1.5228469 \t 0.0029908\n",
            "2 \t\t 1.5235929 \t 1.5235930 \t 1.5235929 \t 0.0000000\n",
            "La raíz de la función dada es 1.5235929\n"
          ]
        }
      ],
      "source": [
        "# Primero importamos las herramientas que podamos ocupar\n",
        "from math import *\n",
        "import numpy as np\n",
        "\n",
        "# Definicion de la función\n",
        "def funcion(x):\n",
        "  return cos(x)-2*x+3\n",
        "\n",
        "def funcion1(x):\n",
        "  return (cos(x)+3)/2\n",
        "\n",
        "# Método de Steffensen\n",
        "\n",
        "# Definimos las variables\n",
        "iterator = 0      # definimos un contador para conocer en que iteración vamos\n",
        "max_iterator = 100      # número de iteraciones máximas para hallar la solución\n",
        "tolerancia = 0.000001       # tolerancia entre los valores para saber cuando se encontró la solución\n",
        "new_error = 1\n",
        "punto_inicial0 = 1       # el punto inicial P_0^(0)\n",
        "\n",
        "\n",
        "# Imprimimos la primer fila de la tabla\n",
        "print(\"# iter\\t\\t P_0\\t\\t P_1\\t\\t P_2\\t\\t error\")\n",
        "\n",
        "while iterator < max_iterator and new_error > tolerancia: #Condiciones para que continue\n",
        "\n",
        "  punto_final1 = funcion1(punto_inicial0) #Evaluamos la funcion para obtener P_1^(k)\n",
        "  punto_final2 = funcion1(punto_final1) #Evaluamos la funcion para obtener P_2^(k)\n",
        "  punto_inicial = punto_inicial0 - (punto_final1 - punto_inicial0)**2 / (punto_final2 - 2*punto_final1 + punto_inicial0)\n",
        "  new_error = abs(punto_inicial0 - punto_inicial)\n",
        "\n",
        "  print(\"{0} \\t\\t {1:6.7f} \\t {2:6.7f} \\t {3:6.7f} \\t {4:6.7f}\".format(iterator, punto_inicial0, punto_final1, punto_final2, new_error)) #imprimimos lo obtenido\n",
        "\n",
        "  if iterator == max_iterator -1:\n",
        "    print(\"No se encontró la solución en el número máximo de iteraciones\")\n",
        "\n",
        "  iterator+=1 # Sumamos 1 al contador\n",
        "  punto_inicial0 = punto_inicial # Redefinimos el punto P_0^(k)\n",
        "\n",
        "print(\"La raíz de la función dada es {0:6.7f}\".format(punto_inicial))"
      ]
    }
  ]
}