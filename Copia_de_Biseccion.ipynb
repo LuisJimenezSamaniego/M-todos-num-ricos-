{
  "cells": [
    {
      "cell_type": "markdown",
      "metadata": {
        "id": "view-in-github",
        "colab_type": "text"
      },
      "source": [
        "<a href=\"https://colab.research.google.com/github/LuisJimenezSamaniego/M-todos-num-ricos-/blob/main/Copia_de_Biseccion.ipynb\" target=\"_parent\"><img src=\"https://colab.research.google.com/assets/colab-badge.svg\" alt=\"Open In Colab\"/></a>"
      ]
    },
    {
      "cell_type": "markdown",
      "id": "3154e14b",
      "metadata": {
        "id": "3154e14b"
      },
      "source": [
        "# Método de bisección"
      ]
    },
    {
      "cell_type": "code",
      "execution_count": 1,
      "id": "9d5e2287",
      "metadata": {
        "id": "9d5e2287"
      },
      "outputs": [],
      "source": [
        "from math import *\n",
        "import numpy as np\n",
        "import matplotlib . pyplot as plt"
      ]
    },
    {
      "cell_type": "code",
      "execution_count": 2,
      "id": "db980446",
      "metadata": {
        "id": "db980446"
      },
      "outputs": [],
      "source": [
        "def funcion1(x):\n",
        "    return x**3 + 4*x**2 - 10.0\n",
        "\n",
        "def funcion2(x):\n",
        "    return x-2**(-x)"
      ]
    },
    {
      "cell_type": "code",
      "source": [
        "\n",
        "print(funcion1(1), funcion1(1.3652301))"
      ],
      "metadata": {
        "id": "tX2iJ5uYMlIw",
        "outputId": "f856f270-5f0a-4b52-aade-4ec124aab67e",
        "colab": {
          "base_uri": "https://localhost:8080/"
        }
      },
      "id": "tX2iJ5uYMlIw",
      "execution_count": 4,
      "outputs": [
        {
          "output_type": "stream",
          "name": "stdout",
          "text": [
            "-5.0 1.4298276340696248e-06\n"
          ]
        }
      ]
    },
    {
      "cell_type": "code",
      "execution_count": 96,
      "id": "6b4c08a0",
      "metadata": {
        "id": "6b4c08a0",
        "outputId": "ba19c17e-9700-4bd5-e7ce-13f876e46865",
        "colab": {
          "base_uri": "https://localhost:8080/"
        }
      },
      "outputs": [
        {
          "output_type": "stream",
          "name": "stdout",
          "text": [
            "# iter\t\t a \t\t f(a) \t\t b \t\t f(b) \t\t m \t\t f(m) \t\t error\n",
            "0 \t\t 0.0000 \t -1.0000 \t 1.0000 \t 0.5000 \t 0.5000 \t -0.2071 \t 100.0000\n",
            "1 \t\t 0.500000 \t -0.207107 \t 1.000000 \t 0.500000 \t 0.750000 \t 0.155396 \t 0.500000\n",
            "2 \t\t 0.500000 \t -0.207107 \t 0.750000 \t 0.155396 \t 0.625000 \t -0.023420 \t 0.250000\n",
            "3 \t\t 0.625000 \t -0.023420 \t 0.750000 \t 0.155396 \t 0.687500 \t 0.066571 \t 0.125000\n",
            "4 \t\t 0.625000 \t -0.023420 \t 0.687500 \t 0.066571 \t 0.656250 \t 0.021725 \t 0.062500\n",
            "5 \t\t 0.625000 \t -0.023420 \t 0.656250 \t 0.021725 \t 0.640625 \t -0.000810 \t 0.031250\n",
            "6 \t\t 0.640625 \t -0.000810 \t 0.656250 \t 0.021725 \t 0.648438 \t 0.010467 \t 0.015625\n",
            "7 \t\t 0.640625 \t -0.000810 \t 0.648438 \t 0.010467 \t 0.644531 \t 0.004831 \t 0.007812\n",
            "8 \t\t 0.640625 \t -0.000810 \t 0.644531 \t 0.004831 \t 0.642578 \t 0.002011 \t 0.003906\n",
            "9 \t\t 0.640625 \t -0.000810 \t 0.642578 \t 0.002011 \t 0.641602 \t 0.000601 \t 0.001953\n",
            "10 \t\t 0.640625 \t -0.000810 \t 0.641602 \t 0.000601 \t 0.641113 \t -0.000105 \t 0.000977\n",
            "11 \t\t 0.641113 \t -0.000105 \t 0.641602 \t 0.000601 \t 0.641357 \t 0.000248 \t 0.000488\n",
            "12 \t\t 0.641113 \t -0.000105 \t 0.641357 \t 0.000248 \t 0.641235 \t 0.000072 \t 0.000244\n",
            "13 \t\t 0.641113 \t -0.000105 \t 0.641235 \t 0.000072 \t 0.641174 \t -0.000017 \t 0.000122\n",
            "14 \t\t 0.641174 \t -0.000017 \t 0.641235 \t 0.000072 \t 0.641205 \t 0.000028 \t 0.000061\n",
            "15 \t\t 0.641174 \t -0.000017 \t 0.641205 \t 0.000028 \t 0.641190 \t 0.000006 \t 0.000031\n",
            "16 \t\t 0.641174 \t -0.000017 \t 0.641190 \t 0.000006 \t 0.641182 \t -0.000005 \t 0.000015\n",
            "17 \t\t 0.641182 \t -0.000005 \t 0.641190 \t 0.000006 \t 0.641186 \t 0.000000 \t 0.000008\n",
            "18 \t\t 0.641182 \t -0.000005 \t 0.641186 \t 0.000000 \t 0.641184 \t -0.000003 \t 0.000004\n",
            "19 \t\t 0.641184 \t -0.000003 \t 0.641186 \t 0.000000 \t 0.641185 \t -0.000001 \t 0.000002\n",
            "20 \t\t 0.641185 \t -0.000001 \t 0.641186 \t 0.000000 \t 0.641185 \t -0.000001 \t 0.000001\n",
            "La raíz de la función dada en el intervalo [0.0000,1.0000] es 0.6411853\n"
          ]
        }
      ],
      "source": [
        "# Ingreso datos de entrada para los diferentes métodos a trabajar\n",
        "a = 0\n",
        "b = 1\n",
        "\n",
        "# guarda valores iniciales\n",
        "a0 = a\n",
        "b0 = b\n",
        "\n",
        "#guarda valores iniciales del error y del número de iteraciones\n",
        "tol = 0.000001 #float(input(\"Ingrese el valor de la tolerancia: \"))\n",
        "nmax = 100 #float(input(\"Ingrese el número máximo de iteraciones: \"))\n",
        "error = 100\n",
        "niter = 0\n",
        "\n",
        "# Método de Bisección\n",
        "\n",
        "# evaluo primer valor medio\n",
        "m = a + (b - a)/2\n",
        "\n",
        "#Evaluacion de la función en los puntos a, b y m\n",
        "fa = funcion2(a)\n",
        "fb = funcion2(b)\n",
        "fm = funcion2(m)\n",
        "\n",
        "print(\"# iter\\t\\t a \\t\\t f(a) \\t\\t b \\t\\t f(b) \\t\\t m \\t\\t f(m) \\t\\t error\")\n",
        "print(\"{0} \\t\\t {1:6.4f} \\t {2:6.4f} \\t {3:6.4f} \\t {4:6.4f} \\t {5:6.4f} \\t {6:6.4f} \\t {7:6.4f}\".format(niter, a0, fa, b0, fb, m, fm, error ))\n",
        "\n",
        "# ciclo iterativo\n",
        "error_array=[]\n",
        "error1_array=[]\n",
        "niter_array=[]\n",
        "while error > tol and niter < nmax:\n",
        "    m = a + (b - a) / 2\n",
        "    if np.sign(fa) == np.sign(fm):\n",
        "        a = m\n",
        "        fa = funcion2(a)\n",
        "    else:\n",
        "        b = m\n",
        "        fb = funcion2(b)\n",
        "\n",
        "    m = a + (b - a)/2\n",
        "    fm = funcion2(m)\n",
        "    error = abs(b - a)\n",
        "    error_array.append(error)\n",
        "    error1_array.append(error/error_array[0])\n",
        "    niter += 1\n",
        "    niter_array.append(niter)\n",
        "    print(\"{0} \\t\\t {1:6.6f} \\t {2:6.6f} \\t {3:6.6f} \\t {4:6.6f} \\t {5:6.6f} \\t {6:6.6f} \\t {7:6.6f}\".format(niter, a, fa, b, fb, m, fm, error ))\n",
        "\n",
        "print(\"La raíz de la función dada en el intervalo [{0:6.4f},{1:6.4f}] es {2:6.7f}\".format(a0,b0,m))\n",
        "\n",
        "error2_array=np.divide(error_array,error_array[1])"
      ]
    },
    {
      "cell_type": "code",
      "source": [
        "error2_array"
      ],
      "metadata": {
        "colab": {
          "base_uri": "https://localhost:8080/"
        },
        "id": "n01wpSB6F6tR",
        "outputId": "c1ca82cc-6199-473f-e56c-c0f3b7266d24"
      },
      "id": "n01wpSB6F6tR",
      "execution_count": 93,
      "outputs": [
        {
          "output_type": "execute_result",
          "data": {
            "text/plain": [
              "array([2.00000000e+00, 1.00000000e+00, 5.00000000e-01, 2.50000000e-01,\n",
              "       1.25000000e-01, 6.25000000e-02, 3.12500000e-02, 1.56250000e-02,\n",
              "       7.81250000e-03, 3.90625000e-03, 1.95312500e-03, 9.76562500e-04,\n",
              "       4.88281250e-04, 2.44140625e-04, 1.22070312e-04, 6.10351562e-05,\n",
              "       3.05175781e-05, 1.52587891e-05, 7.62939453e-06, 3.81469727e-06])"
            ]
          },
          "metadata": {},
          "execution_count": 93
        }
      ]
    },
    {
      "cell_type": "code",
      "source": [
        "# Hacemos la partición de x\n",
        "xx=np.linspace(0,20,400)\n",
        "\n",
        "plt.figure(figsize=(8,5))\n",
        "plt.plot(error2_array,color='#2BB797')\n",
        "plt.xlim(0,20)\n",
        "plt.ylim(0,1)\n",
        "plt.title(\"Error para el método de bisección de $x^3+4x^2-10$\")\n",
        "plt.xlabel(\"Número de iteraciones\")\n",
        "plt.ylabel(\"Error absoluto\")\n",
        "plt.grid()\n",
        "plt.xticks(np.arange(0, niter, step=1))\n",
        "plt.yticks(np.arange(0, 1, step=0.1))\n",
        "#plt.savefig(\"output.png\")\n",
        "plt.show()"
      ],
      "metadata": {
        "id": "-t7Z_3lrLaXl",
        "outputId": "9e1d9c9e-0430-4317-ac13-9da0a5d6ab59",
        "colab": {
          "base_uri": "https://localhost:8080/",
          "height": 511
        }
      },
      "id": "-t7Z_3lrLaXl",
      "execution_count": 101,
      "outputs": [
        {
          "output_type": "display_data",
          "data": {
            "text/plain": [
              "<Figure size 800x500 with 1 Axes>"
            ],
            "image/png": "[encoded data removed]"
          },
          "metadata": {}
        }
      ]
    }
  ],
  "metadata": {
    "kernelspec": {
      "display_name": "Python 3 (ipykernel)",
      "language": "python",
      "name": "python3"
    },
    "language_info": {
      "codemirror_mode": {
        "name": "ipython",
        "version": 3
      },
      "file_extension": ".py",
      "mimetype": "text/x-python",
      "name": "python",
      "nbconvert_exporter": "python",
      "pygments_lexer": "ipython3",
      "version": "3.7.3"
    },
    "colab": {
      "provenance": [],
      "include_colab_link": true
    }
  },
  "nbformat": 4,
  "nbformat_minor": 5
}