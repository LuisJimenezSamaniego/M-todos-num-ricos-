{
  "nbformat": 4,
  "nbformat_minor": 0,
  "metadata": {
    "colab": {
      "provenance": [],
      "authorship_tag": "ABX9TyNlLYqnMFD14szmweXlq43n",
      "include_colab_link": true
    },
    "kernelspec": {
      "name": "python3",
      "display_name": "Python 3"
    },
    "language_info": {
      "name": "python"
    }
  },
  "cells": [
    {
      "cell_type": "markdown",
      "metadata": {
        "id": "view-in-github",
        "colab_type": "text"
      },
      "source": [
        "<a href=\"https://colab.research.google.com/github/LuisJimenezSamaniego/M-todos-num-ricos-/blob/main/M%C3%A9todo_Horner.ipynb\" target=\"_parent\"><img src=\"https://colab.research.google.com/assets/colab-badge.svg\" alt=\"Open In Colab\"/></a>"
      ]
    },
    {
      "cell_type": "markdown",
      "source": [
        "# **Método de Horner**\n",
        "\n",
        "**Jiménez Samaneigo Luis Manuel**\n",
        "\n",
        "Evaluaremos la función\n",
        "$$P(x)=2x^4-3x^2-3x-4$$\n",
        "en $x_0=-2$, con el método de Horner."
      ],
      "metadata": {
        "id": "qaCSkix-AHta"
      }
    },
    {
      "cell_type": "code",
      "execution_count": 1,
      "metadata": {
        "id": "23aRmQuAACU4"
      },
      "outputs": [],
      "source": [
        "from math import *\n",
        "import numpy as np\n",
        "x_0 = -2 # definimos el punto donde comienza\n",
        "# al igual que los coeficientes de la ecuación\n",
        "a_0 = -4\n",
        "a_1 = 3\n",
        "a_2 = -3\n",
        "a_3 = 0\n",
        "a_4 = 2\n"
      ]
    },
    {
      "cell_type": "code",
      "source": [
        "# Ahora definimos el método de Horner\n",
        "def horner(x_0,coeficientes):\n",
        "  resultado=[]\n",
        "  auxiliar=0\n",
        "  for i in range(len(coeficientes)):\n",
        "    if i==0:\n",
        "      auxiliar=coeficientes[i]\n",
        "      resultado.append(auxiliar)\n",
        "      continue\n",
        "    auxiliar=round(coeficientes[i] + x_0*auxiliar,4)\n",
        "    resultado.append(auxiliar)\n",
        "    if i==len(coeficientes)-1:\n",
        "      return resultado\n",
        "\n",
        "\n",
        "def encontrar_raiz(x_0,funcion):\n",
        "\n",
        "  coeficientes=[]\n",
        "  raices=[]\n",
        "  while len(raices)<len(funcion):\n",
        "\n",
        "    coeficientes=horner(x_0,funcion)\n",
        "    numerador = coeficientes.pop()\n",
        "    coeficientes=horner(x_0,coeficientes)\n",
        "    denominador = coeficientes.pop()\n",
        "\n",
        "    if denominador==0:\n",
        "      print(\"no existe solucion\")\n",
        "      return\n",
        "\n",
        "    x1 = round(x_0 - numerador/denominador,4)\n",
        "    raices.append(x1)\n",
        "    x_0=x1\n",
        "\n",
        "  return raices\n",
        "\n",
        "\n",
        "import array as arr\n",
        "coeficientes=arr.array('f',[a_4,a_3,a_2,a_1,a_0])\n",
        "\n",
        "print(\"los resultados son\", encontrar_raiz(x_0,coeficientes))\n",
        "\n"
      ],
      "metadata": {
        "colab": {
          "base_uri": "https://localhost:8080/"
        },
        "id": "vop4RBtBSquQ",
        "outputId": "34cab72c-9107-4219-a0e6-7968393c7d1e"
      },
      "execution_count": 2,
      "outputs": [
        {
          "output_type": "stream",
          "name": "stdout",
          "text": [
            "los resultados son [-1.7959, -1.7424, -1.739, -1.739, -1.739]\n"
          ]
        }
      ]
    }
  ]
}